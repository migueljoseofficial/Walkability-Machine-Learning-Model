{
 "cells": [
  {
   "cell_type": "code",
   "execution_count": 21,
   "metadata": {},
   "outputs": [],
   "source": [
    "import pandas as pd\n",
    "from scipy import stats\n",
    "import numpy as np"
   ]
  },
  {
   "cell_type": "code",
   "execution_count": 4,
   "metadata": {},
   "outputs": [
    {
     "name": "stderr",
     "output_type": "stream",
     "text": [
      "/var/folders/xy/wbp3dwts0pz4_qkkwhjdrjym0000gn/T/ipykernel_1003/1430817655.py:1: DtypeWarning: Columns (42,56) have mixed types. Specify dtype option on import or set low_memory=False.\n",
      "  df = pd.read_csv('./dataset/combined_layer.csv')\n"
     ]
    }
   ],
   "source": [
    "df = pd.read_csv('./dataset/combined_layer.csv')"
   ]
  },
  {
   "cell_type": "code",
   "execution_count": 12,
   "metadata": {},
   "outputs": [],
   "source": [
    "LaSalle_SWID = [16464, 16677, 7378, 12257, 9362, 7849, 7307]\n",
    "Colfax_SWID = [12271, 5851, 7726, 16686, 16685, 16682, 16681, 7306, 7033, 7032, 7207]"
   ]
  },
  {
   "cell_type": "code",
   "execution_count": 16,
   "metadata": {},
   "outputs": [],
   "source": [
    "LaSalle_df = df[df['SW ID'].isin(LaSalle_SWID)]\n",
    "Colfax_df = df[df['SW ID'].isin(Colfax_SWID)]\n"
   ]
  },
  {
   "cell_type": "code",
   "execution_count": 17,
   "metadata": {},
   "outputs": [
    {
     "name": "stdout",
     "output_type": "stream",
     "text": [
      "The average stress score of lasalle is: 16.600764313597224\n",
      "The average stress score of colfax is: 10.422994420335657\n"
     ]
    }
   ],
   "source": [
    "average_lasalle = LaSalle_df['Stress score'].mean()\n",
    "average_colfax = Colfax_df['Stress score'].mean()\n",
    "\n",
    "print(f\"The average stress score of lasalle is: {average_lasalle}\")\n",
    "print(f\"The average stress score of colfax is: {average_colfax}\")"
   ]
  },
  {
   "cell_type": "code",
   "execution_count": 20,
   "metadata": {},
   "outputs": [
    {
     "name": "stdout",
     "output_type": "stream",
     "text": [
      "lasalle: 15.425049297609908\n",
      "colfax:12.282174112501906\n"
     ]
    }
   ],
   "source": [
    "lasalle_std = LaSalle_df['Stress score'].std()\n",
    "colfax_std = Colfax_df['Stress score'].std()\n",
    "print(f'lasalle: {lasalle_std}')\n",
    "print(f'colfax:{colfax_std}')"
   ]
  },
  {
   "cell_type": "code",
   "execution_count": 22,
   "metadata": {},
   "outputs": [
    {
     "name": "stdout",
     "output_type": "stream",
     "text": [
      "overall t-test between colfax and lasalle: TtestResult(statistic=53.10698609542346, pvalue=0.0, df=17582)\n"
     ]
    }
   ],
   "source": [
    "ttest = stats.ttest_1samp(LaSalle_df['Stress score'], Colfax_df['Stress score'].mean())\n",
    "print(f'overall t-test between colfax and lasalle: {ttest}')"
   ]
  },
  {
   "cell_type": "code",
   "execution_count": 23,
   "metadata": {},
   "outputs": [
    {
     "name": "stdout",
     "output_type": "stream",
     "text": [
      "Overall t-test between Colfax and LaSalle:\n",
      "Statistic: 38.55, p-value: 0.00e+00, degrees of freedom: 31494\n"
     ]
    }
   ],
   "source": [
    "ttest_result = stats.ttest_ind(LaSalle_df['Stress score'], Colfax_df['Stress score'])\n",
    "statistic = round(ttest_result.statistic, 2)\n",
    "pvalue = ttest_result.pvalue\n",
    "formatted_pvalue = f\"{pvalue:.2e}\" if pvalue < 0.01 else f\"{pvalue:.2f}\"\n",
    "df = len(LaSalle_df) + len(Colfax_df) - 2\n",
    "print(f\"Overall t-test between Colfax and LaSalle:\")\n",
    "print(f\"Statistic: {statistic}, p-value: {formatted_pvalue}, degrees of freedom: {df}\")"
   ]
  }
 ],
 "metadata": {
  "kernelspec": {
   "display_name": "Python 3",
   "language": "python",
   "name": "python3"
  },
  "language_info": {
   "codemirror_mode": {
    "name": "ipython",
    "version": 3
   },
   "file_extension": ".py",
   "mimetype": "text/x-python",
   "name": "python",
   "nbconvert_exporter": "python",
   "pygments_lexer": "ipython3",
   "version": "3.11.3"
  }
 },
 "nbformat": 4,
 "nbformat_minor": 2
}
