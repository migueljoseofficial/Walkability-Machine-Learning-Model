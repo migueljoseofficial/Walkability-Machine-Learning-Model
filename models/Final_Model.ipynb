{
  "cells": [
    {
      "cell_type": "markdown",
      "metadata": {
        "id": "NBn9t2BLZEK8"
      },
      "source": [
        "# 0. Import Data"
      ]
    },
    {
      "cell_type": "code",
      "execution_count": 63,
      "metadata": {
        "id": "DP6OlQ5_ZEK-"
      },
      "outputs": [],
      "source": [
        "import pandas as pd\n",
        "from sklearn.model_selection import train_test_split\n",
        "import numpy as np"
      ]
    },
    {
      "cell_type": "code",
      "execution_count": 64,
      "metadata": {
        "id": "gCW1H6UAZEK_"
      },
      "outputs": [],
      "source": [
        "df_dirty = pd.read_csv('/content/comb_data3.csv')"
      ]
    },
    {
      "cell_type": "code",
      "execution_count": 65,
      "metadata": {
        "id": "GA2OOAeIZEK_"
      },
      "outputs": [],
      "source": [
        "df = df_dirty.dropna()\n",
        "X = pd.get_dummies(df.drop(['Stress score','Street Name','SW ID'], axis=1))\n",
        "y = df['Stress score']"
      ]
    },
    {
      "cell_type": "code",
      "source": [
        "X.head()"
      ],
      "metadata": {
        "colab": {
          "base_uri": "https://localhost:8080/",
          "height": 206
        },
        "id": "yx3gBOlYl8lO",
        "outputId": "ce82a223-c004-4648-e36f-34680e67058e"
      },
      "execution_count": 66,
      "outputs": [
        {
          "output_type": "execute_result",
          "data": {
            "text/plain": [
              "   Number of Uplifts  Width (ft)  SCI 2023\n",
              "0               10.0        6.62      58.0\n",
              "1               10.0        6.62      58.0\n",
              "2               10.0        6.62      58.0\n",
              "3               10.0        6.62      58.0\n",
              "4               10.0        6.62      58.0"
            ],
            "text/html": [
              "\n",
              "  <div id=\"df-cac07bb0-406a-4820-8dd1-8cece9a71bf0\" class=\"colab-df-container\">\n",
              "    <div>\n",
              "<style scoped>\n",
              "    .dataframe tbody tr th:only-of-type {\n",
              "        vertical-align: middle;\n",
              "    }\n",
              "\n",
              "    .dataframe tbody tr th {\n",
              "        vertical-align: top;\n",
              "    }\n",
              "\n",
              "    .dataframe thead th {\n",
              "        text-align: right;\n",
              "    }\n",
              "</style>\n",
              "<table border=\"1\" class=\"dataframe\">\n",
              "  <thead>\n",
              "    <tr style=\"text-align: right;\">\n",
              "      <th></th>\n",
              "      <th>Number of Uplifts</th>\n",
              "      <th>Width (ft)</th>\n",
              "      <th>SCI 2023</th>\n",
              "    </tr>\n",
              "  </thead>\n",
              "  <tbody>\n",
              "    <tr>\n",
              "      <th>0</th>\n",
              "      <td>10.0</td>\n",
              "      <td>6.62</td>\n",
              "      <td>58.0</td>\n",
              "    </tr>\n",
              "    <tr>\n",
              "      <th>1</th>\n",
              "      <td>10.0</td>\n",
              "      <td>6.62</td>\n",
              "      <td>58.0</td>\n",
              "    </tr>\n",
              "    <tr>\n",
              "      <th>2</th>\n",
              "      <td>10.0</td>\n",
              "      <td>6.62</td>\n",
              "      <td>58.0</td>\n",
              "    </tr>\n",
              "    <tr>\n",
              "      <th>3</th>\n",
              "      <td>10.0</td>\n",
              "      <td>6.62</td>\n",
              "      <td>58.0</td>\n",
              "    </tr>\n",
              "    <tr>\n",
              "      <th>4</th>\n",
              "      <td>10.0</td>\n",
              "      <td>6.62</td>\n",
              "      <td>58.0</td>\n",
              "    </tr>\n",
              "  </tbody>\n",
              "</table>\n",
              "</div>\n",
              "    <div class=\"colab-df-buttons\">\n",
              "\n",
              "  <div class=\"colab-df-container\">\n",
              "    <button class=\"colab-df-convert\" onclick=\"convertToInteractive('df-cac07bb0-406a-4820-8dd1-8cece9a71bf0')\"\n",
              "            title=\"Convert this dataframe to an interactive table.\"\n",
              "            style=\"display:none;\">\n",
              "\n",
              "  <svg xmlns=\"http://www.w3.org/2000/svg\" height=\"24px\" viewBox=\"0 -960 960 960\">\n",
              "    <path d=\"M120-120v-720h720v720H120Zm60-500h600v-160H180v160Zm220 220h160v-160H400v160Zm0 220h160v-160H400v160ZM180-400h160v-160H180v160Zm440 0h160v-160H620v160ZM180-180h160v-160H180v160Zm440 0h160v-160H620v160Z\"/>\n",
              "  </svg>\n",
              "    </button>\n",
              "\n",
              "  <style>\n",
              "    .colab-df-container {\n",
              "      display:flex;\n",
              "      gap: 12px;\n",
              "    }\n",
              "\n",
              "    .colab-df-convert {\n",
              "      background-color: #E8F0FE;\n",
              "      border: none;\n",
              "      border-radius: 50%;\n",
              "      cursor: pointer;\n",
              "      display: none;\n",
              "      fill: #1967D2;\n",
              "      height: 32px;\n",
              "      padding: 0 0 0 0;\n",
              "      width: 32px;\n",
              "    }\n",
              "\n",
              "    .colab-df-convert:hover {\n",
              "      background-color: #E2EBFA;\n",
              "      box-shadow: 0px 1px 2px rgba(60, 64, 67, 0.3), 0px 1px 3px 1px rgba(60, 64, 67, 0.15);\n",
              "      fill: #174EA6;\n",
              "    }\n",
              "\n",
              "    .colab-df-buttons div {\n",
              "      margin-bottom: 4px;\n",
              "    }\n",
              "\n",
              "    [theme=dark] .colab-df-convert {\n",
              "      background-color: #3B4455;\n",
              "      fill: #D2E3FC;\n",
              "    }\n",
              "\n",
              "    [theme=dark] .colab-df-convert:hover {\n",
              "      background-color: #434B5C;\n",
              "      box-shadow: 0px 1px 3px 1px rgba(0, 0, 0, 0.15);\n",
              "      filter: drop-shadow(0px 1px 2px rgba(0, 0, 0, 0.3));\n",
              "      fill: #FFFFFF;\n",
              "    }\n",
              "  </style>\n",
              "\n",
              "    <script>\n",
              "      const buttonEl =\n",
              "        document.querySelector('#df-cac07bb0-406a-4820-8dd1-8cece9a71bf0 button.colab-df-convert');\n",
              "      buttonEl.style.display =\n",
              "        google.colab.kernel.accessAllowed ? 'block' : 'none';\n",
              "\n",
              "      async function convertToInteractive(key) {\n",
              "        const element = document.querySelector('#df-cac07bb0-406a-4820-8dd1-8cece9a71bf0');\n",
              "        const dataTable =\n",
              "          await google.colab.kernel.invokeFunction('convertToInteractive',\n",
              "                                                    [key], {});\n",
              "        if (!dataTable) return;\n",
              "\n",
              "        const docLinkHtml = 'Like what you see? Visit the ' +\n",
              "          '<a target=\"_blank\" href=https://colab.research.google.com/notebooks/data_table.ipynb>data table notebook</a>'\n",
              "          + ' to learn more about interactive tables.';\n",
              "        element.innerHTML = '';\n",
              "        dataTable['output_type'] = 'display_data';\n",
              "        await google.colab.output.renderOutput(dataTable, element);\n",
              "        const docLink = document.createElement('div');\n",
              "        docLink.innerHTML = docLinkHtml;\n",
              "        element.appendChild(docLink);\n",
              "      }\n",
              "    </script>\n",
              "  </div>\n",
              "\n",
              "\n",
              "<div id=\"df-c000bd62-c02a-4908-9675-20472d061443\">\n",
              "  <button class=\"colab-df-quickchart\" onclick=\"quickchart('df-c000bd62-c02a-4908-9675-20472d061443')\"\n",
              "            title=\"Suggest charts\"\n",
              "            style=\"display:none;\">\n",
              "\n",
              "<svg xmlns=\"http://www.w3.org/2000/svg\" height=\"24px\"viewBox=\"0 0 24 24\"\n",
              "     width=\"24px\">\n",
              "    <g>\n",
              "        <path d=\"M19 3H5c-1.1 0-2 .9-2 2v14c0 1.1.9 2 2 2h14c1.1 0 2-.9 2-2V5c0-1.1-.9-2-2-2zM9 17H7v-7h2v7zm4 0h-2V7h2v10zm4 0h-2v-4h2v4z\"/>\n",
              "    </g>\n",
              "</svg>\n",
              "  </button>\n",
              "\n",
              "<style>\n",
              "  .colab-df-quickchart {\n",
              "      --bg-color: #E8F0FE;\n",
              "      --fill-color: #1967D2;\n",
              "      --hover-bg-color: #E2EBFA;\n",
              "      --hover-fill-color: #174EA6;\n",
              "      --disabled-fill-color: #AAA;\n",
              "      --disabled-bg-color: #DDD;\n",
              "  }\n",
              "\n",
              "  [theme=dark] .colab-df-quickchart {\n",
              "      --bg-color: #3B4455;\n",
              "      --fill-color: #D2E3FC;\n",
              "      --hover-bg-color: #434B5C;\n",
              "      --hover-fill-color: #FFFFFF;\n",
              "      --disabled-bg-color: #3B4455;\n",
              "      --disabled-fill-color: #666;\n",
              "  }\n",
              "\n",
              "  .colab-df-quickchart {\n",
              "    background-color: var(--bg-color);\n",
              "    border: none;\n",
              "    border-radius: 50%;\n",
              "    cursor: pointer;\n",
              "    display: none;\n",
              "    fill: var(--fill-color);\n",
              "    height: 32px;\n",
              "    padding: 0;\n",
              "    width: 32px;\n",
              "  }\n",
              "\n",
              "  .colab-df-quickchart:hover {\n",
              "    background-color: var(--hover-bg-color);\n",
              "    box-shadow: 0 1px 2px rgba(60, 64, 67, 0.3), 0 1px 3px 1px rgba(60, 64, 67, 0.15);\n",
              "    fill: var(--button-hover-fill-color);\n",
              "  }\n",
              "\n",
              "  .colab-df-quickchart-complete:disabled,\n",
              "  .colab-df-quickchart-complete:disabled:hover {\n",
              "    background-color: var(--disabled-bg-color);\n",
              "    fill: var(--disabled-fill-color);\n",
              "    box-shadow: none;\n",
              "  }\n",
              "\n",
              "  .colab-df-spinner {\n",
              "    border: 2px solid var(--fill-color);\n",
              "    border-color: transparent;\n",
              "    border-bottom-color: var(--fill-color);\n",
              "    animation:\n",
              "      spin 1s steps(1) infinite;\n",
              "  }\n",
              "\n",
              "  @keyframes spin {\n",
              "    0% {\n",
              "      border-color: transparent;\n",
              "      border-bottom-color: var(--fill-color);\n",
              "      border-left-color: var(--fill-color);\n",
              "    }\n",
              "    20% {\n",
              "      border-color: transparent;\n",
              "      border-left-color: var(--fill-color);\n",
              "      border-top-color: var(--fill-color);\n",
              "    }\n",
              "    30% {\n",
              "      border-color: transparent;\n",
              "      border-left-color: var(--fill-color);\n",
              "      border-top-color: var(--fill-color);\n",
              "      border-right-color: var(--fill-color);\n",
              "    }\n",
              "    40% {\n",
              "      border-color: transparent;\n",
              "      border-right-color: var(--fill-color);\n",
              "      border-top-color: var(--fill-color);\n",
              "    }\n",
              "    60% {\n",
              "      border-color: transparent;\n",
              "      border-right-color: var(--fill-color);\n",
              "    }\n",
              "    80% {\n",
              "      border-color: transparent;\n",
              "      border-right-color: var(--fill-color);\n",
              "      border-bottom-color: var(--fill-color);\n",
              "    }\n",
              "    90% {\n",
              "      border-color: transparent;\n",
              "      border-bottom-color: var(--fill-color);\n",
              "    }\n",
              "  }\n",
              "</style>\n",
              "\n",
              "  <script>\n",
              "    async function quickchart(key) {\n",
              "      const quickchartButtonEl =\n",
              "        document.querySelector('#' + key + ' button');\n",
              "      quickchartButtonEl.disabled = true;  // To prevent multiple clicks.\n",
              "      quickchartButtonEl.classList.add('colab-df-spinner');\n",
              "      try {\n",
              "        const charts = await google.colab.kernel.invokeFunction(\n",
              "            'suggestCharts', [key], {});\n",
              "      } catch (error) {\n",
              "        console.error('Error during call to suggestCharts:', error);\n",
              "      }\n",
              "      quickchartButtonEl.classList.remove('colab-df-spinner');\n",
              "      quickchartButtonEl.classList.add('colab-df-quickchart-complete');\n",
              "    }\n",
              "    (() => {\n",
              "      let quickchartButtonEl =\n",
              "        document.querySelector('#df-c000bd62-c02a-4908-9675-20472d061443 button');\n",
              "      quickchartButtonEl.style.display =\n",
              "        google.colab.kernel.accessAllowed ? 'block' : 'none';\n",
              "    })();\n",
              "  </script>\n",
              "</div>\n",
              "\n",
              "    </div>\n",
              "  </div>\n"
            ],
            "application/vnd.google.colaboratory.intrinsic+json": {
              "type": "dataframe",
              "variable_name": "X",
              "summary": "{\n  \"name\": \"X\",\n  \"rows\": 68734,\n  \"fields\": [\n    {\n      \"column\": \"Number of Uplifts\",\n      \"properties\": {\n        \"dtype\": \"number\",\n        \"std\": 14.478605516095643,\n        \"min\": 0.0,\n        \"max\": 95.0,\n        \"num_unique_values\": 57,\n        \"samples\": [\n          10.0,\n          1.0,\n          14.0\n        ],\n        \"semantic_type\": \"\",\n        \"description\": \"\"\n      }\n    },\n    {\n      \"column\": \"Width (ft)\",\n      \"properties\": {\n        \"dtype\": \"number\",\n        \"std\": 3.098758369582628,\n        \"min\": 4.5,\n        \"max\": 24.0,\n        \"num_unique_values\": 60,\n        \"samples\": [\n          6.61999989,\n          7.25,\n          20.0\n        ],\n        \"semantic_type\": \"\",\n        \"description\": \"\"\n      }\n    },\n    {\n      \"column\": \"SCI 2023\",\n      \"properties\": {\n        \"dtype\": \"number\",\n        \"std\": 25.188665570613047,\n        \"min\": 0.0,\n        \"max\": 100.0,\n        \"num_unique_values\": 96,\n        \"samples\": [\n          1.0,\n          61.0,\n          62.0\n        ],\n        \"semantic_type\": \"\",\n        \"description\": \"\"\n      }\n    }\n  ]\n}"
            }
          },
          "metadata": {},
          "execution_count": 66
        }
      ]
    },
    {
      "cell_type": "code",
      "source": [
        "y.head()"
      ],
      "metadata": {
        "colab": {
          "base_uri": "https://localhost:8080/"
        },
        "id": "Z0nDab53Y6uz",
        "outputId": "bf3dc77c-fac8-40ca-e506-cf65dc0f8b36"
      },
      "execution_count": 67,
      "outputs": [
        {
          "output_type": "execute_result",
          "data": {
            "text/plain": [
              "0    23.497719\n",
              "1    22.559360\n",
              "2    21.664820\n",
              "3    20.759432\n",
              "4    19.896809\n",
              "Name: Stress score, dtype: float64"
            ]
          },
          "metadata": {},
          "execution_count": 67
        }
      ]
    },
    {
      "cell_type": "code",
      "execution_count": 68,
      "metadata": {
        "id": "M0EetIEWZEK_"
      },
      "outputs": [],
      "source": [
        "X_train, X_test, y_train, y_test = train_test_split(X, y, test_size=.2)"
      ]
    },
    {
      "cell_type": "code",
      "source": [
        "from sklearn.preprocessing import MinMaxScaler\n",
        "\n",
        "X_train = X_train.astype(np.float32)\n",
        "y_train = y_train.astype(np.float32)\n",
        "X_test = X_train.astype(np.float32)\n",
        "y_test = y_train.astype(np.float32)\n",
        "\n",
        "# Initialize the scaler\n",
        "scaler = MinMaxScaler()\n",
        "print(f\"Before {X_train}\")\n",
        "# Fit on training data and transform both training and test data\n",
        "X_train = scaler.fit_transform(X_train) #why are these different things? Do the same thing to both data sets\n",
        "X_test = scaler.transform(X_test)\n",
        "print(f\"AFter {X_train}\")\n"
      ],
      "metadata": {
        "colab": {
          "base_uri": "https://localhost:8080/"
        },
        "id": "rh3_pEPxa-3u",
        "outputId": "31808f9d-0a2f-4c89-a989-aec646b83e37"
      },
      "execution_count": 69,
      "outputs": [
        {
          "output_type": "stream",
          "name": "stdout",
          "text": [
            "Before        Number of Uplifts  Width (ft)  SCI 2023\n",
            "56857               41.0    5.500000       9.0\n",
            "60824                8.0   16.120001      50.0\n",
            "9621                 4.0   10.000000      92.0\n",
            "33584                7.0    8.000000      59.0\n",
            "7387                 1.0    7.250000      87.0\n",
            "...                  ...         ...       ...\n",
            "48846                4.0   10.000000      92.0\n",
            "46522               15.0    5.500000      40.0\n",
            "27395               48.0    7.120000      18.0\n",
            "33673                7.0    8.000000      59.0\n",
            "2042                48.0    7.120000      18.0\n",
            "\n",
            "[54987 rows x 3 columns]\n",
            "AFter [[0.43157896 0.05128206 0.09      ]\n",
            " [0.08421053 0.5958975  0.5       ]\n",
            " [0.04210526 0.28205132 0.91999996]\n",
            " ...\n",
            " [0.5052632  0.13435896 0.17999999]\n",
            " [0.07368422 0.17948718 0.59      ]\n",
            " [0.5052632  0.13435896 0.17999999]]\n"
          ]
        }
      ]
    },
    {
      "cell_type": "code",
      "execution_count": 70,
      "metadata": {
        "colab": {
          "base_uri": "https://localhost:8080/"
        },
        "id": "6d2DEY3DZEK_",
        "outputId": "f1898e0a-57e8-425b-8660-fe11fbd52c01"
      },
      "outputs": [
        {
          "output_type": "execute_result",
          "data": {
            "text/plain": [
              "56857     0.247480\n",
              "60824     4.989629\n",
              "9621     10.848424\n",
              "33584     1.042519\n",
              "7387     16.662590\n",
              "Name: Stress score, dtype: float32"
            ]
          },
          "metadata": {},
          "execution_count": 70
        }
      ],
      "source": [
        "y_train.head()"
      ]
    },
    {
      "cell_type": "markdown",
      "metadata": {
        "id": "einzCkiaZELA"
      },
      "source": [
        "# 1. Import Dependencies"
      ]
    },
    {
      "cell_type": "code",
      "execution_count": 71,
      "metadata": {
        "id": "w8apAG9ZZELA"
      },
      "outputs": [],
      "source": [
        "from tensorflow.keras.models import Sequential, load_model\n",
        "from tensorflow.keras.layers import Dense\n",
        "from sklearn.metrics import accuracy_score\n",
        "from sklearn.metrics import mean_squared_error\n",
        "from sklearn.ensemble import RandomForestRegressor"
      ]
    },
    {
      "cell_type": "markdown",
      "metadata": {
        "id": "18-_2H0GZELB"
      },
      "source": [
        "# 2. Build and Compile Model"
      ]
    },
    {
      "cell_type": "code",
      "source": [
        "X_train = X_train.astype(np.float32)\n",
        "y_train = y_train.astype(np.float32)\n",
        "X_test = X_train.astype(np.float32)\n",
        "y_test = y_train.astype(np.float32) # you already did this earlier"
      ],
      "metadata": {
        "id": "ASvu_gnMuuVP"
      },
      "execution_count": 72,
      "outputs": []
    },
    {
      "cell_type": "code",
      "execution_count": 73,
      "metadata": {
        "id": "hpKOGXtJZELB"
      },
      "outputs": [],
      "source": [
        "model = Sequential()\n",
        "model.add(Dense(units=32, activation='relu', input_dim=(X_train.shape[1])))\n",
        "model.add(Dense(units=64, activation='relu'))\n",
        "model.add(Dense(units=32, activation='relu'))\n",
        "model.add(Dense(units=1))"
      ]
    },
    {
      "cell_type": "code",
      "source": [
        "#model.compile(loss='mse', optimizer='adam', metrics='accuracy')\n",
        "''' model.compile(optimizer='adam', loss='mean_squared_error', metrics='accuracy') '''\n",
        "model.compile(optimizer='adam', loss='mean_squared_error', metrics=['mean_absolute_error'])\n"
      ],
      "metadata": {
        "id": "JidjLJzwpCGj"
      },
      "execution_count": 74,
      "outputs": []
    },
    {
      "cell_type": "markdown",
      "metadata": {
        "id": "1tPQKcQ1ZELB"
      },
      "source": [
        "# 3. Fit, Predict and Evaluate"
      ]
    },
    {
      "cell_type": "code",
      "execution_count": 75,
      "metadata": {
        "collapsed": true,
        "colab": {
          "base_uri": "https://localhost:8080/"
        },
        "id": "7ZqtMbHeZELB",
        "outputId": "eace048b-750b-4a12-b9ba-67e0706f0e39"
      },
      "outputs": [
        {
          "output_type": "stream",
          "name": "stdout",
          "text": [
            "Epoch 1/100\n",
            "1719/1719 [==============================] - 4s 2ms/step - loss: 186.7527 - mean_absolute_error: 9.4111\n",
            "Epoch 2/100\n",
            "1719/1719 [==============================] - 4s 2ms/step - loss: 177.5662 - mean_absolute_error: 9.2685\n",
            "Epoch 3/100\n",
            "1719/1719 [==============================] - 5s 3ms/step - loss: 173.3155 - mean_absolute_error: 9.1251\n",
            "Epoch 4/100\n",
            "1719/1719 [==============================] - 4s 2ms/step - loss: 170.9576 - mean_absolute_error: 9.0287\n",
            "Epoch 5/100\n",
            "1719/1719 [==============================] - 3s 2ms/step - loss: 170.0362 - mean_absolute_error: 8.9756\n",
            "Epoch 6/100\n",
            "1719/1719 [==============================] - 4s 2ms/step - loss: 169.5016 - mean_absolute_error: 8.9530\n",
            "Epoch 7/100\n",
            "1719/1719 [==============================] - 4s 2ms/step - loss: 169.1203 - mean_absolute_error: 8.9307\n",
            "Epoch 8/100\n",
            "1719/1719 [==============================] - 3s 2ms/step - loss: 168.5499 - mean_absolute_error: 8.9055\n",
            "Epoch 9/100\n",
            "1719/1719 [==============================] - 4s 2ms/step - loss: 168.0535 - mean_absolute_error: 8.8735\n",
            "Epoch 10/100\n",
            "1719/1719 [==============================] - 5s 3ms/step - loss: 167.6236 - mean_absolute_error: 8.8500\n",
            "Epoch 11/100\n",
            "1719/1719 [==============================] - 3s 2ms/step - loss: 167.1486 - mean_absolute_error: 8.8204\n",
            "Epoch 12/100\n",
            "1719/1719 [==============================] - 4s 2ms/step - loss: 166.8693 - mean_absolute_error: 8.8010\n",
            "Epoch 13/100\n",
            "1719/1719 [==============================] - 4s 2ms/step - loss: 166.6892 - mean_absolute_error: 8.7933\n",
            "Epoch 14/100\n",
            "1719/1719 [==============================] - 5s 3ms/step - loss: 166.4869 - mean_absolute_error: 8.7803\n",
            "Epoch 15/100\n",
            "1719/1719 [==============================] - 4s 2ms/step - loss: 166.2580 - mean_absolute_error: 8.7660\n",
            "Epoch 16/100\n",
            "1719/1719 [==============================] - 3s 2ms/step - loss: 166.1316 - mean_absolute_error: 8.7612\n",
            "Epoch 17/100\n",
            "1719/1719 [==============================] - 5s 3ms/step - loss: 165.8712 - mean_absolute_error: 8.7560\n",
            "Epoch 18/100\n",
            "1719/1719 [==============================] - 4s 2ms/step - loss: 165.5119 - mean_absolute_error: 8.7384\n",
            "Epoch 19/100\n",
            "1719/1719 [==============================] - 3s 2ms/step - loss: 165.3709 - mean_absolute_error: 8.7327\n",
            "Epoch 20/100\n",
            "1719/1719 [==============================] - 4s 2ms/step - loss: 165.0081 - mean_absolute_error: 8.7206\n",
            "Epoch 21/100\n",
            "1719/1719 [==============================] - 5s 3ms/step - loss: 164.9065 - mean_absolute_error: 8.7081\n",
            "Epoch 22/100\n",
            "1719/1719 [==============================] - 3s 2ms/step - loss: 164.6086 - mean_absolute_error: 8.7004\n",
            "Epoch 23/100\n",
            "1719/1719 [==============================] - 3s 2ms/step - loss: 164.4267 - mean_absolute_error: 8.6799\n",
            "Epoch 24/100\n",
            "1719/1719 [==============================] - 4s 2ms/step - loss: 164.0413 - mean_absolute_error: 8.6689\n",
            "Epoch 25/100\n",
            "1719/1719 [==============================] - 4s 3ms/step - loss: 164.1168 - mean_absolute_error: 8.6698\n",
            "Epoch 26/100\n",
            "1719/1719 [==============================] - 3s 2ms/step - loss: 163.8902 - mean_absolute_error: 8.6596\n",
            "Epoch 27/100\n",
            "1719/1719 [==============================] - 3s 2ms/step - loss: 163.9515 - mean_absolute_error: 8.6631\n",
            "Epoch 28/100\n",
            "1719/1719 [==============================] - 5s 3ms/step - loss: 163.7069 - mean_absolute_error: 8.6528\n",
            "Epoch 29/100\n",
            "1719/1719 [==============================] - 3s 2ms/step - loss: 163.4104 - mean_absolute_error: 8.6349\n",
            "Epoch 30/100\n",
            "1719/1719 [==============================] - 3s 2ms/step - loss: 163.1340 - mean_absolute_error: 8.6216\n",
            "Epoch 31/100\n",
            "1719/1719 [==============================] - 4s 2ms/step - loss: 163.1682 - mean_absolute_error: 8.6170\n",
            "Epoch 32/100\n",
            "1719/1719 [==============================] - 5s 3ms/step - loss: 163.0661 - mean_absolute_error: 8.6071\n",
            "Epoch 33/100\n",
            "1719/1719 [==============================] - 3s 2ms/step - loss: 162.8280 - mean_absolute_error: 8.5994\n",
            "Epoch 34/100\n",
            "1719/1719 [==============================] - 3s 2ms/step - loss: 162.7530 - mean_absolute_error: 8.6004\n",
            "Epoch 35/100\n",
            "1719/1719 [==============================] - 4s 3ms/step - loss: 162.6646 - mean_absolute_error: 8.5904\n",
            "Epoch 36/100\n",
            "1719/1719 [==============================] - 4s 2ms/step - loss: 162.4608 - mean_absolute_error: 8.5829\n",
            "Epoch 37/100\n",
            "1719/1719 [==============================] - 4s 2ms/step - loss: 162.1701 - mean_absolute_error: 8.5678\n",
            "Epoch 38/100\n",
            "1719/1719 [==============================] - 4s 2ms/step - loss: 162.2504 - mean_absolute_error: 8.5603\n",
            "Epoch 39/100\n",
            "1719/1719 [==============================] - 5s 3ms/step - loss: 161.9758 - mean_absolute_error: 8.5551\n",
            "Epoch 40/100\n",
            "1719/1719 [==============================] - 4s 2ms/step - loss: 162.0795 - mean_absolute_error: 8.5535\n",
            "Epoch 41/100\n",
            "1719/1719 [==============================] - 4s 2ms/step - loss: 161.8523 - mean_absolute_error: 8.5462\n",
            "Epoch 42/100\n",
            "1719/1719 [==============================] - 5s 3ms/step - loss: 161.6000 - mean_absolute_error: 8.5404\n",
            "Epoch 43/100\n",
            "1719/1719 [==============================] - 4s 2ms/step - loss: 161.7390 - mean_absolute_error: 8.5354\n",
            "Epoch 44/100\n",
            "1719/1719 [==============================] - 4s 2ms/step - loss: 161.5116 - mean_absolute_error: 8.5269\n",
            "Epoch 45/100\n",
            "1719/1719 [==============================] - 4s 2ms/step - loss: 161.3925 - mean_absolute_error: 8.5294\n",
            "Epoch 46/100\n",
            "1719/1719 [==============================] - 5s 3ms/step - loss: 161.2272 - mean_absolute_error: 8.5177\n",
            "Epoch 47/100\n",
            "1719/1719 [==============================] - 4s 2ms/step - loss: 161.1517 - mean_absolute_error: 8.5179\n",
            "Epoch 48/100\n",
            "1719/1719 [==============================] - 4s 2ms/step - loss: 161.2020 - mean_absolute_error: 8.5141\n",
            "Epoch 49/100\n",
            "1719/1719 [==============================] - 5s 3ms/step - loss: 160.9762 - mean_absolute_error: 8.5053\n",
            "Epoch 50/100\n",
            "1719/1719 [==============================] - 6s 3ms/step - loss: 160.9906 - mean_absolute_error: 8.5017\n",
            "Epoch 51/100\n",
            "1719/1719 [==============================] - 4s 2ms/step - loss: 160.7595 - mean_absolute_error: 8.4998\n",
            "Epoch 52/100\n",
            "1719/1719 [==============================] - 3s 2ms/step - loss: 160.7818 - mean_absolute_error: 8.5021\n",
            "Epoch 53/100\n",
            "1719/1719 [==============================] - 5s 3ms/step - loss: 160.4984 - mean_absolute_error: 8.4822\n",
            "Epoch 54/100\n",
            "1719/1719 [==============================] - 4s 2ms/step - loss: 160.6144 - mean_absolute_error: 8.4834\n",
            "Epoch 55/100\n",
            "1719/1719 [==============================] - 4s 2ms/step - loss: 160.5824 - mean_absolute_error: 8.4823\n",
            "Epoch 56/100\n",
            "1719/1719 [==============================] - 4s 2ms/step - loss: 160.4585 - mean_absolute_error: 8.4827\n",
            "Epoch 57/100\n",
            "1719/1719 [==============================] - 5s 3ms/step - loss: 160.5465 - mean_absolute_error: 8.4822\n",
            "Epoch 58/100\n",
            "1719/1719 [==============================] - 4s 2ms/step - loss: 160.5020 - mean_absolute_error: 8.4779\n",
            "Epoch 59/100\n",
            "1719/1719 [==============================] - 3s 2ms/step - loss: 160.3696 - mean_absolute_error: 8.4792\n",
            "Epoch 60/100\n",
            "1719/1719 [==============================] - 5s 3ms/step - loss: 160.2445 - mean_absolute_error: 8.4751\n",
            "Epoch 61/100\n",
            "1719/1719 [==============================] - 4s 2ms/step - loss: 160.2119 - mean_absolute_error: 8.4757\n",
            "Epoch 62/100\n",
            "1719/1719 [==============================] - 4s 2ms/step - loss: 159.9557 - mean_absolute_error: 8.4667\n",
            "Epoch 63/100\n",
            "1719/1719 [==============================] - 3s 2ms/step - loss: 159.9328 - mean_absolute_error: 8.4532\n",
            "Epoch 64/100\n",
            "1719/1719 [==============================] - 5s 3ms/step - loss: 159.9314 - mean_absolute_error: 8.4577\n",
            "Epoch 65/100\n",
            "1719/1719 [==============================] - 4s 2ms/step - loss: 159.8801 - mean_absolute_error: 8.4608\n",
            "Epoch 66/100\n",
            "1719/1719 [==============================] - 3s 2ms/step - loss: 160.0197 - mean_absolute_error: 8.4605\n",
            "Epoch 67/100\n",
            "1719/1719 [==============================] - 4s 3ms/step - loss: 159.7276 - mean_absolute_error: 8.4543\n",
            "Epoch 68/100\n",
            "1719/1719 [==============================] - 4s 2ms/step - loss: 159.7660 - mean_absolute_error: 8.4513\n",
            "Epoch 69/100\n",
            "1719/1719 [==============================] - 3s 2ms/step - loss: 159.7077 - mean_absolute_error: 8.4536\n",
            "Epoch 70/100\n",
            "1719/1719 [==============================] - 4s 2ms/step - loss: 159.6860 - mean_absolute_error: 8.4454\n",
            "Epoch 71/100\n",
            "1719/1719 [==============================] - 5s 3ms/step - loss: 159.5381 - mean_absolute_error: 8.4411\n",
            "Epoch 72/100\n",
            "1719/1719 [==============================] - 4s 2ms/step - loss: 159.4874 - mean_absolute_error: 8.4423\n",
            "Epoch 73/100\n",
            "1719/1719 [==============================] - 4s 2ms/step - loss: 159.4963 - mean_absolute_error: 8.4362\n",
            "Epoch 74/100\n",
            "1719/1719 [==============================] - 4s 2ms/step - loss: 159.3111 - mean_absolute_error: 8.4344\n",
            "Epoch 75/100\n",
            "1719/1719 [==============================] - 5s 3ms/step - loss: 159.2278 - mean_absolute_error: 8.4293\n",
            "Epoch 76/100\n",
            "1719/1719 [==============================] - 4s 2ms/step - loss: 159.3396 - mean_absolute_error: 8.4298\n",
            "Epoch 77/100\n",
            "1719/1719 [==============================] - 4s 2ms/step - loss: 159.2885 - mean_absolute_error: 8.4326\n",
            "Epoch 78/100\n",
            "1719/1719 [==============================] - 5s 3ms/step - loss: 159.1472 - mean_absolute_error: 8.4335\n",
            "Epoch 79/100\n",
            "1719/1719 [==============================] - 4s 2ms/step - loss: 159.0691 - mean_absolute_error: 8.4104\n",
            "Epoch 80/100\n",
            "1719/1719 [==============================] - 4s 2ms/step - loss: 158.9095 - mean_absolute_error: 8.4208\n",
            "Epoch 81/100\n",
            "1719/1719 [==============================] - 4s 2ms/step - loss: 159.1929 - mean_absolute_error: 8.4207\n",
            "Epoch 82/100\n",
            "1719/1719 [==============================] - 4s 2ms/step - loss: 158.9021 - mean_absolute_error: 8.4074\n",
            "Epoch 83/100\n",
            "1719/1719 [==============================] - 4s 2ms/step - loss: 159.1310 - mean_absolute_error: 8.4178\n",
            "Epoch 84/100\n",
            "1719/1719 [==============================] - 4s 2ms/step - loss: 159.0303 - mean_absolute_error: 8.4132\n",
            "Epoch 85/100\n",
            "1719/1719 [==============================] - 5s 3ms/step - loss: 158.7067 - mean_absolute_error: 8.4100\n",
            "Epoch 86/100\n",
            "1719/1719 [==============================] - 4s 2ms/step - loss: 158.8048 - mean_absolute_error: 8.4066\n",
            "Epoch 87/100\n",
            "1719/1719 [==============================] - 4s 2ms/step - loss: 158.6751 - mean_absolute_error: 8.3975\n",
            "Epoch 88/100\n",
            "1719/1719 [==============================] - 4s 3ms/step - loss: 158.7493 - mean_absolute_error: 8.4068\n",
            "Epoch 89/100\n",
            "1719/1719 [==============================] - 4s 3ms/step - loss: 158.6852 - mean_absolute_error: 8.3967\n",
            "Epoch 90/100\n",
            "1719/1719 [==============================] - 4s 2ms/step - loss: 158.9529 - mean_absolute_error: 8.4119\n",
            "Epoch 91/100\n",
            "1719/1719 [==============================] - 4s 2ms/step - loss: 158.7166 - mean_absolute_error: 8.4054\n",
            "Epoch 92/100\n",
            "1719/1719 [==============================] - 5s 3ms/step - loss: 158.7575 - mean_absolute_error: 8.3950\n",
            "Epoch 93/100\n",
            "1719/1719 [==============================] - 3s 2ms/step - loss: 158.6119 - mean_absolute_error: 8.3925\n",
            "Epoch 94/100\n",
            "1719/1719 [==============================] - 4s 2ms/step - loss: 158.6535 - mean_absolute_error: 8.3966\n",
            "Epoch 95/100\n",
            "1719/1719 [==============================] - 4s 2ms/step - loss: 158.4766 - mean_absolute_error: 8.3920\n",
            "Epoch 96/100\n",
            "1719/1719 [==============================] - 5s 3ms/step - loss: 158.6235 - mean_absolute_error: 8.4018\n",
            "Epoch 97/100\n",
            "1719/1719 [==============================] - 4s 2ms/step - loss: 158.5747 - mean_absolute_error: 8.4025\n",
            "Epoch 98/100\n",
            "1719/1719 [==============================] - 4s 2ms/step - loss: 158.4927 - mean_absolute_error: 8.3840\n",
            "Epoch 99/100\n",
            "1719/1719 [==============================] - 6s 3ms/step - loss: 158.5422 - mean_absolute_error: 8.3982\n",
            "Epoch 100/100\n",
            "1719/1719 [==============================] - 4s 2ms/step - loss: 158.3877 - mean_absolute_error: 8.3830\n"
          ]
        },
        {
          "output_type": "execute_result",
          "data": {
            "text/plain": [
              "<keras.src.callbacks.History at 0x7a63f029a6e0>"
            ]
          },
          "metadata": {},
          "execution_count": 75
        }
      ],
      "source": [
        "model.fit(X_train, y_train, epochs=100, batch_size=32)"
      ]
    },
    {
      "cell_type": "code",
      "source": [
        "y_hat = model.predict(X_test)\n",
        "print(y_hat)\n",
        "print(y_test)"
      ],
      "metadata": {
        "colab": {
          "base_uri": "https://localhost:8080/"
        },
        "id": "BJpL2qrLA_Ad",
        "outputId": "62bca7aa-ebaa-4fea-805b-5ef7eb29d6e4"
      },
      "execution_count": 76,
      "outputs": [
        {
          "output_type": "stream",
          "name": "stdout",
          "text": [
            "1719/1719 [==============================] - 3s 2ms/step\n",
            "[[ 2.8131907]\n",
            " [ 2.8906229]\n",
            " [17.955301 ]\n",
            " ...\n",
            " [ 9.799903 ]\n",
            " [15.597286 ]\n",
            " [ 9.799903 ]]\n",
            "56857     0.247480\n",
            "60824     4.989629\n",
            "9621     10.848424\n",
            "33584     1.042519\n",
            "7387     16.662590\n",
            "           ...    \n",
            "48846    20.120094\n",
            "46522    14.985312\n",
            "27395     5.860345\n",
            "33673    25.327154\n",
            "2042      1.882783\n",
            "Name: Stress score, Length: 54987, dtype: float32\n"
          ]
        }
      ]
    },
    {
      "cell_type": "code",
      "source": [
        "import matplotlib.pyplot as plt\n",
        "plt.figure(figsize=(10, 6))\n",
        "plt.scatter(y_test, y_hat, color='blue')\n",
        "plt.plot([y_test.min(), y_test.max()], [y_test.min(), y_test.max()], 'k--', lw=3)\n",
        "plt.xlabel('Actual')\n",
        "plt.ylabel('Predicted')\n",
        "plt.title('Actual vs Predicted')\n",
        "plt.show()"
      ],
      "metadata": {
        "colab": {
          "base_uri": "https://localhost:8080/",
          "height": 564
        },
        "id": "WAmkHGO8BvGQ",
        "outputId": "851f6617-1627-46b0-ba46-0f9b6f64edfb"
      },
      "execution_count": 77,
      "outputs": [
        {
          "output_type": "display_data",
          "data": {
            "text/plain": [
              "<Figure size 1000x600 with 1 Axes>"
            ],
            "image/png": "[encoded data removed]"
          },
          "metadata": {}
        }
      ]
    }
  ],
  "metadata": {
    "kernelspec": {
      "display_name": "Python 3",
      "language": "python",
      "name": "python3"
    },
    "language_info": {
      "codemirror_mode": {
        "name": "ipython",
        "version": 3
      },
      "file_extension": ".py",
      "mimetype": "text/x-python",
      "name": "python",
      "nbconvert_exporter": "python",
      "pygments_lexer": "ipython3",
      "version": "3.7.4"
    },
    "colab": {
      "provenance": []
    }
  },
  "nbformat": 4,
  "nbformat_minor": 0
}