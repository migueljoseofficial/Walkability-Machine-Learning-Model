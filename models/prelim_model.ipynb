{
  "cells": [
    {
      "cell_type": "code",
      "execution_count": 1,
      "metadata": {
        "id": "O4QzUEpdrUZl"
      },
      "outputs": [],
      "source": [
        "import pandas as pd\n",
        "from sklearn.preprocessing import StandardScaler\n",
        "from sklearn.model_selection import train_test_split"
      ]
    },
    {
      "cell_type": "code",
      "execution_count": 2,
      "metadata": {
        "id": "Q2lUKf-Tr1QP"
      },
      "outputs": [],
      "source": [
        "df_dirty = pd.read_csv('data.csv')\n",
        "df = df_dirty.dropna()"
      ]
    },
    {
      "cell_type": "code",
      "execution_count": 44,
      "metadata": {
        "colab": {
          "base_uri": "https://localhost:8080/"
        },
        "id": "EYdce-ShVsS3",
        "outputId": "f216f0e6-5045-4326-c42f-096ebed70e9a"
      },
      "outputs": [
        {
          "name": "stdout",
          "output_type": "stream",
          "text": [
            "['num_of_uplifts', 'maintenance_suggestion', 'repair_priority', 'surface_type', 'length_ft', 'area_sy', 'sw_id', 'avg_width', 'num_of_distresses', 'bufferwidth_avg', 'num_crack_minor', 'num_crack_moderate', 'num_crack_severe', 'num_grass_present', 'num_surface_distortion_minor', 'num_surface_distortion_mod', 'num_surface_distortion_severe', 'num_uplift_general_minor', 'num_uplift_general_moderate', 'num_uplift_general_severe', 'num_uplift_tree_minor', 'num_uplift_tree_moderate', 'num_uplift_tree_severe', 'num_utility_hazard_present', 'avg_stress_lvl_Dummy']\n"
          ]
        }
      ],
      "source": [
        "columns_list = [\n",
        "    'num_of_uplifts',\n",
        "    'maintenance_suggestion',\n",
        "    'repair_priority',\n",
        "    'surface_type',\n",
        "    'length_ft',\n",
        "    'area_sy',\n",
        "    'sw_id',\n",
        "    'avg_width',\n",
        "    'num_of_distresses',\n",
        "    'bufferwidth_avg',\n",
        "    'num_crack_minor',\n",
        "    'num_crack_moderate',\n",
        "    'num_crack_severe',\n",
        "    'num_grass_present',\n",
        "    'num_surface_distortion_minor',\n",
        "    'num_surface_distortion_mod',\n",
        "    'num_surface_distortion_severe',\n",
        "    'num_uplift_general_minor',\n",
        "    'num_uplift_general_moderate',\n",
        "    'num_uplift_general_severe',\n",
        "    'num_uplift_tree_minor',\n",
        "    'num_uplift_tree_moderate',\n",
        "    'num_uplift_tree_severe',\n",
        "    'num_utility_hazard_present',\n",
        "    'avg_stress_lvl_Dummy'\n",
        "]\n",
        "\n",
        "print(columns_list)\n"
      ]
    },
    {
      "cell_type": "code",
      "execution_count": 45,
      "metadata": {
        "id": "7doHajvfwEJb"
      },
      "outputs": [],
      "source": [
        "X = pd.get_dummies(df.drop(columns_list, axis=1))\n",
        "y = df['avg_stress_lvl_Dummy']\n",
        "\n"
      ]
    },
    {
      "cell_type": "code",
      "execution_count": 46,
      "metadata": {
        "colab": {
          "base_uri": "https://localhost:8080/"
        },
        "id": "nfwthbkQwKt3",
        "outputId": "41112c4e-28af-4af9-8755-28bb4be522e7"
      },
      "outputs": [
        {
          "name": "stdout",
          "output_type": "stream",
          "text": [
            "       sci_2023  streetname_E COLFAX AVE  streetname_E LASALLE AVE  \\\n",
            "4850       74.0                    False                     False   \n",
            "6031       38.0                     True                     False   \n",
            "6305       57.0                     True                     False   \n",
            "6306       87.0                    False                      True   \n",
            "6377       56.0                    False                     False   \n",
            "6458       50.0                    False                     False   \n",
            "6725       60.0                    False                     False   \n",
            "6848       92.0                    False                      True   \n",
            "8399       42.0                    False                     False   \n",
            "15461      18.0                    False                     False   \n",
            "17431      68.0                     True                     False   \n",
            "\n",
            "       streetname_N MAIN ST  streetname_N NILES AVE  streetname_W COLFAX AVE  \\\n",
            "4850                  False                   False                     True   \n",
            "6031                  False                   False                    False   \n",
            "6305                  False                   False                    False   \n",
            "6306                  False                   False                    False   \n",
            "6377                  False                   False                    False   \n",
            "6458                  False                    True                    False   \n",
            "6725                  False                   False                     True   \n",
            "6848                  False                   False                    False   \n",
            "8399                  False                   False                    False   \n",
            "15461                  True                   False                    False   \n",
            "17431                 False                   False                    False   \n",
            "\n",
            "       streetname_W LASALLE AVE  \n",
            "4850                      False  \n",
            "6031                      False  \n",
            "6305                      False  \n",
            "6306                      False  \n",
            "6377                       True  \n",
            "6458                      False  \n",
            "6725                      False  \n",
            "6848                      False  \n",
            "8399                       True  \n",
            "15461                     False  \n",
            "17431                     False  \n"
          ]
        }
      ],
      "source": [
        "print(X)"
      ]
    },
    {
      "cell_type": "code",
      "execution_count": 47,
      "metadata": {
        "id": "qiPK8-gZl9AH"
      },
      "outputs": [],
      "source": [
        "X_train, X_test, y_train, y_test = train_test_split(X, y, test_size=.2)\n",
        "X_train = X_train.astype('float32')\n",
        "X_test = X_test.astype('float32')\n",
        "Y_train = y_train.astype('float32')\n",
        "Y_test = y_test.astype('float32')\n"
      ]
    },
    {
      "cell_type": "code",
      "execution_count": 48,
      "metadata": {
        "colab": {
          "base_uri": "https://localhost:8080/"
        },
        "id": "dt67K2iT_b-8",
        "outputId": "e2416125-f551-470d-c1d6-22dcb9662f94"
      },
      "outputs": [
        {
          "name": "stdout",
          "output_type": "stream",
          "text": [
            "6305      90.0\n",
            "6031      50.0\n",
            "6848      63.0\n",
            "6306      39.0\n",
            "15461     29.0\n",
            "17431     59.0\n",
            "8399      45.0\n",
            "6377     100.0\n",
            "Name: avg_stress_lvl_Dummy, dtype: float64\n",
            "6458    19.0\n",
            "4850    14.0\n",
            "6725    84.0\n",
            "Name: avg_stress_lvl_Dummy, dtype: float64\n"
          ]
        }
      ],
      "source": [
        "print(y_train)\n",
        "print(y_test)"
      ]
    },
    {
      "cell_type": "code",
      "execution_count": 49,
      "metadata": {
        "colab": {
          "base_uri": "https://localhost:8080/"
        },
        "id": "gX3JCOM7pGLH",
        "outputId": "d946aac3-d056-46d0-b85b-296f2ad1f479"
      },
      "outputs": [
        {
          "name": "stdout",
          "output_type": "stream",
          "text": [
            "<class 'pandas.core.frame.DataFrame'>\n",
            "Index: 11 entries, 4850 to 17431\n",
            "Data columns (total 27 columns):\n",
            " #   Column                         Non-Null Count  Dtype  \n",
            "---  ------                         --------------  -----  \n",
            " 0   streetname                     11 non-null     object \n",
            " 1   num_of_uplifts                 11 non-null     float64\n",
            " 2   maintenance_suggestion         11 non-null     object \n",
            " 3   repair_priority                11 non-null     float64\n",
            " 4   surface_type                   11 non-null     object \n",
            " 5   length_ft                      11 non-null     int64  \n",
            " 6   area_sy                        11 non-null     float64\n",
            " 7   sci_2023                       11 non-null     float64\n",
            " 8   sw_id                          11 non-null     object \n",
            " 9   avg_width                      11 non-null     float64\n",
            " 10  num_of_distresses              11 non-null     float64\n",
            " 11  bufferwidth_avg                11 non-null     float64\n",
            " 12  num_crack_minor                11 non-null     float64\n",
            " 13  num_crack_moderate             11 non-null     float64\n",
            " 14  num_crack_severe               11 non-null     float64\n",
            " 15  num_grass_present              11 non-null     float64\n",
            " 16  num_surface_distortion_minor   11 non-null     float64\n",
            " 17  num_surface_distortion_mod     11 non-null     float64\n",
            " 18  num_surface_distortion_severe  11 non-null     float64\n",
            " 19  num_uplift_general_minor       11 non-null     float64\n",
            " 20  num_uplift_general_moderate    11 non-null     float64\n",
            " 21  num_uplift_general_severe      11 non-null     float64\n",
            " 22  num_uplift_tree_minor          11 non-null     float64\n",
            " 23  num_uplift_tree_moderate       11 non-null     float64\n",
            " 24  num_uplift_tree_severe         11 non-null     float64\n",
            " 25  num_utility_hazard_present     11 non-null     float64\n",
            " 26  avg_stress_lvl_Dummy           11 non-null     float64\n",
            "dtypes: float64(22), int64(1), object(4)\n",
            "memory usage: 2.4+ KB\n"
          ]
        }
      ],
      "source": [
        "df.info()"
      ]
    },
    {
      "cell_type": "code",
      "execution_count": 50,
      "metadata": {
        "id": "cdsqNlhG7S0v"
      },
      "outputs": [],
      "source": [
        "from tensorflow.keras.models import Sequential, load_model\n",
        "from tensorflow.keras.layers import Dense\n",
        "from sklearn.ensemble import RandomForestRegressor, RandomForestClassifier\n",
        "from sklearn.metrics import mean_squared_error, accuracy_score"
      ]
    },
    {
      "cell_type": "code",
      "execution_count": null,
      "metadata": {},
      "outputs": [],
      "source": [
        "model = RandomForestRegressor(n_estimators=100, random_state=42)\n",
        "model.fit(X_train, y_train)\n",
        "y_pred = model.predict(X_test)\n",
        "print(y_test)\n",
        "print(y_pred)\n",
        "rmse = mean_squared_error(y_test, y_pred, squared=False)\n",
        "print(\"RMSE:\", rmse)"
      ]
    },
    {
      "cell_type": "code",
      "execution_count": 51,
      "metadata": {
        "colab": {
          "base_uri": "https://localhost:8080/"
        },
        "id": "Hs2xNctH73Rj",
        "outputId": "1586cc84-58b0-4bf0-d135-a94f57635c4d"
      },
      "outputs": [
        {
          "name": "stdout",
          "output_type": "stream",
          "text": [
            "Model: \"sequential_7\"\n",
            "_________________________________________________________________\n",
            " Layer (type)                Output Shape              Param #   \n",
            "=================================================================\n",
            " dense_27 (Dense)            (None, 32)                256       \n",
            "                                                                 \n",
            " dense_28 (Dense)            (None, 64)                2112      \n",
            "                                                                 \n",
            " dense_29 (Dense)            (None, 32)                2080      \n",
            "                                                                 \n",
            " dense_30 (Dense)            (None, 1)                 33        \n",
            "                                                                 \n",
            "=================================================================\n",
            "Total params: 4481 (17.50 KB)\n",
            "Trainable params: 4481 (17.50 KB)\n",
            "Non-trainable params: 0 (0.00 Byte)\n",
            "_________________________________________________________________\n",
            "None\n"
          ]
        }
      ],
      "source": [
        "\n",
        "# Initialize the model\n",
        "model = Sequential()\n",
        "\n",
        "# Add input layer\n",
        "model.add(Dense(units=32, activation='relu', input_dim=len(X_train.columns)))\n",
        "\n",
        "# Add hidden layers\n",
        "model.add(Dense(units=64, activation='relu'))\n",
        "model.add(Dense(units=32, activation='relu'))\n",
        "\n",
        "# Add output layer (no activation function for regression)\n",
        "model.add(Dense(units=1))\n",
        "\n",
        "# Compile the model with appropriate loss and metrics for regression\n",
        "model.compile(loss='mse', optimizer='adam', metrics=['accuracy'])\n",
        "\n",
        "print(model.summary())"
      ]
    },
    {
      "cell_type": "code",
      "execution_count": 52,
      "metadata": {
        "colab": {
          "base_uri": "https://localhost:8080/"
        },
        "id": "OwyOOdid7575",
        "outputId": "66b6843f-d04b-434a-dc09-098b4501cace"
      },
      "outputs": [
        {
          "name": "stdout",
          "output_type": "stream",
          "text": [
            "Epoch 1/20\n",
            "1/1 [==============================] - 1s 995ms/step - loss: 5474.9727 - accuracy: 0.0000e+00\n",
            "Epoch 2/20\n",
            "1/1 [==============================] - 0s 13ms/step - loss: 5285.0825 - accuracy: 0.0000e+00\n",
            "Epoch 3/20\n",
            "1/1 [==============================] - 0s 12ms/step - loss: 5106.0049 - accuracy: 0.0000e+00\n",
            "Epoch 4/20\n",
            "1/1 [==============================] - 0s 13ms/step - loss: 4939.0659 - accuracy: 0.0000e+00\n",
            "Epoch 5/20\n",
            "1/1 [==============================] - 0s 12ms/step - loss: 4780.8735 - accuracy: 0.0000e+00\n",
            "Epoch 6/20\n",
            "1/1 [==============================] - 0s 16ms/step - loss: 4659.5991 - accuracy: 0.0000e+00\n",
            "Epoch 7/20\n",
            "1/1 [==============================] - 0s 11ms/step - loss: 4549.9473 - accuracy: 0.0000e+00\n",
            "Epoch 8/20\n",
            "1/1 [==============================] - 0s 13ms/step - loss: 4443.1260 - accuracy: 0.0000e+00\n",
            "Epoch 9/20\n",
            "1/1 [==============================] - 0s 12ms/step - loss: 4338.6836 - accuracy: 0.0000e+00\n",
            "Epoch 10/20\n",
            "1/1 [==============================] - 0s 12ms/step - loss: 4236.2725 - accuracy: 0.0000e+00\n",
            "Epoch 11/20\n",
            "1/1 [==============================] - 0s 12ms/step - loss: 4136.6274 - accuracy: 0.0000e+00\n",
            "Epoch 12/20\n",
            "1/1 [==============================] - 0s 13ms/step - loss: 4037.8301 - accuracy: 0.0000e+00\n",
            "Epoch 13/20\n",
            "1/1 [==============================] - 0s 14ms/step - loss: 3940.5073 - accuracy: 0.0000e+00\n",
            "Epoch 14/20\n",
            "1/1 [==============================] - 0s 12ms/step - loss: 3845.3687 - accuracy: 0.0000e+00\n",
            "Epoch 15/20\n",
            "1/1 [==============================] - 0s 14ms/step - loss: 3751.7649 - accuracy: 0.0000e+00\n",
            "Epoch 16/20\n",
            "1/1 [==============================] - 0s 13ms/step - loss: 3657.1021 - accuracy: 0.0000e+00\n",
            "Epoch 17/20\n",
            "1/1 [==============================] - 0s 13ms/step - loss: 3557.9062 - accuracy: 0.0000e+00\n",
            "Epoch 18/20\n",
            "1/1 [==============================] - 0s 11ms/step - loss: 3468.6772 - accuracy: 0.0000e+00\n",
            "Epoch 19/20\n",
            "1/1 [==============================] - 0s 14ms/step - loss: 3381.7759 - accuracy: 0.0000e+00\n",
            "Epoch 20/20\n",
            "1/1 [==============================] - 0s 12ms/step - loss: 3293.3672 - accuracy: 0.0000e+00\n"
          ]
        },
        {
          "data": {
            "text/plain": [
              "<keras.src.callbacks.History at 0x7a798dc12fb0>"
            ]
          },
          "execution_count": 52,
          "metadata": {},
          "output_type": "execute_result"
        }
      ],
      "source": [
        "model.fit(X_train, y_train, epochs=20, batch_size=32)"
      ]
    },
    {
      "cell_type": "code",
      "execution_count": 53,
      "metadata": {
        "colab": {
          "base_uri": "https://localhost:8080/"
        },
        "id": "H0tsP7f1EIH9",
        "outputId": "26e9e151-02d7-4868-889e-d27ca8917ef2"
      },
      "outputs": [
        {
          "name": "stdout",
          "output_type": "stream",
          "text": [
            "1/1 [==============================] - 0s 76ms/step\n"
          ]
        }
      ],
      "source": [
        "y_hat = model.predict(X_test)\n",
        "y_hat = [0 if val < 0.5 else 1 for val in y_hat]"
      ]
    },
    {
      "cell_type": "code",
      "execution_count": 54,
      "metadata": {
        "colab": {
          "base_uri": "https://localhost:8080/"
        },
        "id": "35xI8pfuEQ2X",
        "outputId": "e976ddc4-17ca-4e7d-ebd6-6216000dfb78"
      },
      "outputs": [
        {
          "data": {
            "text/plain": [
              "0.0"
            ]
          },
          "execution_count": 54,
          "metadata": {},
          "output_type": "execute_result"
        }
      ],
      "source": [
        "accuracy_score(y_test, y_hat)"
      ]
    }
  ],
  "metadata": {
    "colab": {
      "provenance": []
    },
    "kernelspec": {
      "display_name": "Python 3",
      "name": "python3"
    },
    "language_info": {
      "name": "python"
    }
  },
  "nbformat": 4,
  "nbformat_minor": 0
}
